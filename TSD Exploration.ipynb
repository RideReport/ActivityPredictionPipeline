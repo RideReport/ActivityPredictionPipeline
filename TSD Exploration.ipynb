{
 "cells": [
  {
   "cell_type": "code",
   "execution_count": 1,
   "metadata": {
    "collapsed": false
   },
   "outputs": [
    {
     "data": {
      "application/javascript": [
       "\n",
       "    (function(varname, url) {\n",
       "        function onDone() {\n",
       "            element.html('<tt>'+ varname +'</tt> loaded successfully');\n",
       "        }\n",
       "\n",
       "        var xhr = new XMLHttpRequest();\n",
       "        xhr.open('POST', 'https://ride.report/api/v2/shortlived_jwt_token');\n",
       "        xhr.withCredentials = true;\n",
       "        xhr.onload = function(e) {\n",
       "            var kernel = IPython.notebook.kernel;\n",
       "            var token = JSON.parse(xhr.responseText)['token'];\n",
       "            var callbacks = {\n",
       "                shell: {\n",
       "                    reply: onDone,\n",
       "                }\n",
       "            };\n",
       "            kernel.execute('import jupyter_fetch_helper; '+ varname +' = jupyter_fetch_helper._getUrlWithJWT(\"' + url + '\", \"' + token + '\")', callbacks);\n",
       "        };\n",
       "        xhr.send();\n",
       "        element.html('Loading ...');\n",
       "    })(\"tsd_dict\", \"https://ride.report/__tools/inspect/tripsensordata_raw/1585a6f1-9640-4984-bd8b-8484db36520a\");"
      ]
     },
     "metadata": {},
     "output_type": "display_data"
    }
   ],
   "source": [
    "import pipeline\n",
    "from jupyter_fetch_helper import fetchTSDInJupyter\n",
    "fetchTSDInJupyter('1585a6f1-9640-4984-bd8b-8484db36520a')\n"
   ]
  },
  {
   "cell_type": "code",
   "execution_count": 60,
   "metadata": {
    "collapsed": false
   },
   "outputs": [
    {
     "data": {
      "text/plain": [
       "[(2, 6, 2),\n",
       " (2, 6, 2),\n",
       " (2, 6, 2),\n",
       " (2, 6, 2),\n",
       " (2, 6, 2),\n",
       " (2, 6, 2),\n",
       " (2, 6, 2),\n",
       " (2, 6, 2),\n",
       " (2, 6, 2),\n",
       " (2, 6, 2),\n",
       " (2, 6, 2),\n",
       " (2, 6, 2),\n",
       " (2, 6, 2),\n",
       " (2, 6, 2)]"
      ]
     },
     "execution_count": 60,
     "metadata": {},
     "output_type": "execute_result"
    }
   ],
   "source": [
    "import pipeline\n",
    "reload(pipeline)\n",
    "tsd = pipeline.PreparedTSD(tsd_dict)\n",
    "from rr_mode_classification_apple import RandomForest\n",
    "forest = RandomForest(64, 21, \"./model.ios.cv\")\n",
    "pipeline.predictTSDObjectWithFilters(tsd, forest)"
   ]
  },
  {
   "cell_type": "code",
   "execution_count": 61,
   "metadata": {
    "collapsed": false
   },
   "outputs": [
    {
     "name": "stdout",
     "output_type": "stream",
     "text": [
      "-- 0\n",
      "Speed: 7.0 m/s == 15.7 mi/h\n",
      "Sample has 64 readings, avg spacing 49.0ms\n",
      "Min spacing: 49.0ms\n",
      "Sample good length: has 85.4ms more than needed\n",
      "Sample has OK gaps;   max spacing: 50.0ms (105% of desired)\n",
      "Got features: 1.3 1.0 1.1 0.2 1.4 -2.7 216.7 149.8 108.4 0.8 1.1 1.2 1.2\n",
      "Got predictions: 2=1.0 1=0.0 3=0.0 4=0.0 5=0.0 6=0.0 7=0.0\n",
      "-- 1\n",
      "Speed: 7.2 m/s == 16.1 mi/h\n",
      "Sample has 64 readings, avg spacing 49.0ms\n",
      "Min spacing: 49.0ms\n",
      "Sample good length: has 85.4ms more than needed\n",
      "Sample has OK gaps;   max spacing: 50.0ms (105% of desired)\n",
      "Got features: 1.6 1.0 1.1 0.3 1.3 -2.7 215.0 147.2 107.6 0.8 1.0 1.2 1.3\n",
      "Got predictions: 2=1.0 1=0.0 3=0.0 4=0.0 5=0.0 6=0.0 7=0.0\n",
      "-- 2\n",
      "Speed: 6.2 m/s == 13.8 mi/h\n",
      "Sample has 64 readings, avg spacing 49.0ms\n",
      "Min spacing: 49.0ms\n",
      "Sample good length: has 85.4ms more than needed\n",
      "Sample has OK gaps;   max spacing: 50.0ms (105% of desired)\n",
      "Got features: 1.3 1.0 1.1 0.1 1.4 -2.2 215.6 127.0 108.3 0.9 1.0 1.1 1.2\n",
      "Got predictions: 2=0.9 3=0.1 1=0.0 4=0.0 5=0.0 6=0.0 7=0.0\n",
      "-- 3\n",
      "Speed: 4.1 m/s == 9.2 mi/h\n",
      "Sample has 64 readings, avg spacing 49.0ms\n",
      "Min spacing: 49.0ms\n",
      "Sample good length: has 85.4ms more than needed\n",
      "Sample has OK gaps;   max spacing: 50.0ms (105% of desired)\n",
      "Got features: 1.6 1.0 1.1 0.2 1.2 -2.7 217.6 153.9 109.3 0.8 1.0 1.2 1.3\n",
      "Got predictions: 2=1.0 1=0.0 3=0.0 4=0.0 5=0.0 6=0.0 7=0.0\n",
      "-- 4\n",
      "Speed: 7.8 m/s == 17.6 mi/h\n",
      "Sample has 64 readings, avg spacing 49.0ms\n",
      "Min spacing: 49.0ms\n",
      "Sample good length: has 85.4ms more than needed\n",
      "Sample has OK gaps;   max spacing: 50.0ms (105% of desired)\n",
      "Got features: 1.5 1.0 1.1 0.3 1.3 -2.1 218.8 188.3 109.6 0.6 1.0 1.3 1.4\n",
      "Got predictions: 2=1.0 1=0.0 3=0.0 4=0.0 5=0.0 6=0.0 7=0.0\n",
      "-- 5\n",
      "Speed: 7.7 m/s == 17.2 mi/h\n",
      "Sample has 64 readings, avg spacing 49.0ms\n",
      "Min spacing: 49.0ms\n",
      "Sample good length: has 85.4ms more than needed\n",
      "Sample has OK gaps;   max spacing: 50.0ms (105% of desired)\n",
      "Got features: 1.3 1.0 1.1 0.1 1.3 -2.5 216.8 117.9 108.8 0.9 1.0 1.1 1.1\n",
      "Got predictions: 2=0.6 5=0.3 3=0.1 1=0.0 4=0.0 6=0.0 7=0.0\n",
      "-- 6\n",
      "Speed: 4.0 m/s == 9.0 mi/h\n",
      "Sample has 64 readings, avg spacing 49.0ms\n",
      "Min spacing: 49.0ms\n",
      "Sample good length: has 85.4ms more than needed\n",
      "Sample has OK gaps;   max spacing: 50.0ms (105% of desired)\n",
      "Got features: 1.6 1.0 1.2 0.1 1.3 -2.5 211.0 122.0 105.9 0.9 1.0 1.1 1.1\n",
      "Got predictions: 2=0.8 5=0.2 1=0.0 3=0.0 4=0.0 6=0.0 7=0.0\n",
      "-- 7\n",
      "Speed: 7.2 m/s == 16.2 mi/h\n",
      "Sample has 72 readings, avg spacing 49.0ms\n",
      "Min spacing: 49.0ms\n",
      "Sample good length: has 482.4ms more than needed\n",
      "Sample has OK gaps;   max spacing: 50.0ms (105% of desired)\n",
      "Got features: 1.3 1.0 1.1 0.2 1.4 -2.6 218.0 138.7 109.1 0.9 1.0 1.1 1.2\n",
      "Got predictions: 2=1.0 1=0.0 3=0.0 4=0.0 5=0.0 6=0.0 7=0.0\n",
      "-- 8\n",
      "Speed: 5.2 m/s == 11.6 mi/h\n",
      "Sample has 64 readings, avg spacing 49.0ms\n",
      "Min spacing: 49.0ms\n",
      "Sample good length: has 85.4ms more than needed\n",
      "Sample has OK gaps;   max spacing: 50.0ms (105% of desired)\n",
      "Got features: 1.6 1.0 1.1 0.2 1.3 -2.6 208.2 116.2 104.3 0.9 1.0 1.1 1.1\n",
      "Got predictions: 2=1.0 1=0.0 3=0.0 4=0.0 5=0.0 6=0.0 7=0.0\n",
      "-- 9\n",
      "Speed: 8.4 m/s == 18.7 mi/h\n",
      "Sample has 64 readings, avg spacing 49.0ms\n",
      "Min spacing: 49.0ms\n",
      "Sample good length: has 86.4ms more than needed\n",
      "Sample has OK gaps;   max spacing: 50.0ms (105% of desired)\n",
      "Got features: 1.4 1.0 1.1 0.2 1.4 -2.4 222.8 160.0 111.9 0.8 1.0 1.2 1.3\n",
      "Got predictions: 2=1.0 1=0.0 3=0.0 4=0.0 5=0.0 6=0.0 7=0.0\n",
      "-- 10\n",
      "Speed: 6.1 m/s == 13.6 mi/h\n",
      "Sample has 65 readings, avg spacing 49.0ms\n",
      "Min spacing: 49.0ms\n",
      "Sample good length: has 135.4ms more than needed\n",
      "Sample has OK gaps;   max spacing: 50.0ms (105% of desired)\n",
      "Got features: 1.5 1.0 1.1 0.1 1.4 -3.2 211.2 122.0 106.2 0.9 1.0 1.1 1.2\n",
      "Got predictions: 2=1.0 1=0.0 3=0.0 4=0.0 5=0.0 6=0.0 7=0.0\n",
      "-- 11\n",
      "Speed: 4.3 m/s == 9.6 mi/h\n",
      "Sample has 64 readings, avg spacing 49.1ms\n",
      "Min spacing: 49.0ms\n",
      "Sample good length: has 95.4ms more than needed\n",
      "Sample has large gap; max spacing: 60.0ms (126% of desired)\n",
      "Got features: 1.3 1.0 1.1 0.1 1.3 -2.8 213.4 119.5 106.8 0.9 1.0 1.1 1.2\n",
      "Got predictions: 2=1.0 1=0.0 3=0.0 4=0.0 5=0.0 6=0.0 7=0.0\n",
      "-- 12\n",
      "Speed: 5.1 m/s == 11.4 mi/h\n",
      "Sample has 64 readings, avg spacing 49.0ms\n",
      "Min spacing: 49.0ms\n",
      "Sample good length: has 85.4ms more than needed\n",
      "Sample has OK gaps;   max spacing: 50.0ms (105% of desired)\n",
      "Got features: 1.7 1.0 1.1 0.2 1.2 -2.6 218.0 140.5 109.7 0.9 1.0 1.1 1.2\n",
      "Got predictions: 2=0.9 5=0.1 1=0.0 3=0.0 4=0.0 6=0.0 7=0.0\n",
      "-- 13\n",
      "Speed: 5.2 m/s == 11.7 mi/h\n",
      "Sample has 64 readings, avg spacing 49.0ms\n",
      "Min spacing: 49.0ms\n",
      "Sample good length: has 85.4ms more than needed\n",
      "Sample has OK gaps;   max spacing: 50.0ms (105% of desired)\n",
      "Got features: 1.7 1.0 1.2 0.2 1.3 -2.8 212.8 127.8 106.9 0.9 1.0 1.1 1.2\n",
      "Got predictions: 2=1.0 1=0.0 3=0.0 4=0.0 5=0.0 6=0.0 7=0.0\n"
     ]
    }
   ],
   "source": [
    "for index, event in enumerate(tsd.events):\n",
    "    print '-- {}'.format(index)\n",
    "    print '\\n'.join(event.describe(forest))"
   ]
  },
  {
   "cell_type": "code",
   "execution_count": 28,
   "metadata": {
    "collapsed": false
   },
   "outputs": [
    {
     "data": {
      "text/plain": [
       "3.200000047683716"
      ]
     },
     "execution_count": 28,
     "metadata": {},
     "output_type": "execute_result"
    }
   ],
   "source": [
    "forest.desired_signal_duration"
   ]
  },
  {
   "cell_type": "code",
   "execution_count": null,
   "metadata": {
    "collapsed": true
   },
   "outputs": [],
   "source": []
  }
 ],
 "metadata": {
  "kernelspec": {
   "display_name": "Python 2",
   "language": "python",
   "name": "python2"
  },
  "language_info": {
   "codemirror_mode": {
    "name": "ipython",
    "version": 2
   },
   "file_extension": ".py",
   "mimetype": "text/x-python",
   "name": "python",
   "nbconvert_exporter": "python",
   "pygments_lexer": "ipython2",
   "version": "2.7.11"
  }
 },
 "nbformat": 4,
 "nbformat_minor": 1
}
