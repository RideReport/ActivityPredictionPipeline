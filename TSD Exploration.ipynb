{
 "cells": [
  {
   "cell_type": "code",
   "execution_count": 18,
   "metadata": {
    "collapsed": false
   },
   "outputs": [
    {
     "data": {
      "application/javascript": [
       "\n",
       "    (function(varname, url) {\n",
       "        function onDone() {\n",
       "            element.html('<tt>'+ varname +'</tt> loaded successfully');\n",
       "        }\n",
       "\n",
       "        var xhr = new XMLHttpRequest();\n",
       "        xhr.open('POST', 'https://ride.report/api/v2/shortlived_jwt_token');\n",
       "        xhr.withCredentials = true;\n",
       "        xhr.onload = function(e) {\n",
       "            var kernel = IPython.notebook.kernel;\n",
       "            var token = JSON.parse(xhr.responseText)['token'];\n",
       "            var callbacks = {\n",
       "                shell: {\n",
       "                    reply: onDone,\n",
       "                }\n",
       "            };\n",
       "            kernel.execute('import jupyter_fetch_helper; '+ varname +' = jupyter_fetch_helper._getUrlWithJWT(\"' + url + '\", \"' + token + '\")', callbacks);\n",
       "        };\n",
       "        xhr.send();\n",
       "        element.html('Loading ...');\n",
       "    })(\"tsd_dict\", \"https://ride.report/__tools/inspect/tripsensordata_raw/92c76ba6-9e94-4a13-9179-cba9c4a571d0\");"
      ]
     },
     "metadata": {},
     "output_type": "display_data"
    }
   ],
   "source": [
    "import pipeline\n",
    "from jupyter_fetch_helper import fetchTSDInJupyter\n",
    "fetchTSDInJupyter('92c76ba6-9e94-4a13-9179-cba9c4a571d0')\n"
   ]
  },
  {
   "cell_type": "code",
   "execution_count": 50,
   "metadata": {
    "collapsed": false
   },
   "outputs": [
    {
     "name": "stdout",
     "output_type": "stream",
     "text": [
      "Loading forest id=56e07b88eefae613b2d01da848d72daa3958d80050cbb30cc8b39990ee7ede68\n",
      "Loaded android forest\n"
     ]
    }
   ],
   "source": [
    "\"Load pipeline module, load TSD from `tsd_dict`, and initialize appropriate forest\"\n",
    "import pipeline\n",
    "reload(pipeline)\n",
    "\n",
    "samplingRateHz = 20\n",
    "sampleCount = 64\n",
    "tsd = pipeline.PreparedTSD(tsd_dict)\n",
    "if tsd.platform == 'android':\n",
    "    forest = pipeline.loadForestForPrediction('./ActivityPredictor/models/android/config.json')\n",
    "#     forest = pipeline.loadForestForPrediction('./models/android/c1764dabb223828c0cdc8936a6f047caa2cab67cef4b2d2e548871320006dd81/config.json')\n",
    "#     forest = pipeline.loadForestForPrediction('./temp-model/config.json')\n",
    "    print \"Loaded android forest\"\n",
    "else:\n",
    "#     forest = pipeline.loadForestForPrediction('./ActivityPredictor/models/ios/config.json')\n",
    "    forest = pipeline.loadForestForPrediction('./models/ios/config.json')\n",
    "    print \"Loaded ios forest\""
   ]
  },
  {
   "cell_type": "code",
   "execution_count": 51,
   "metadata": {
    "collapsed": false
   },
   "outputs": [],
   "source": [
    "import matplotlib.pyplot as plt\n",
    "def inspectEvent(index):\n",
    "    print '\\n'.join(tsd.events[index].describe(forest))\n"
   ]
  },
  {
   "cell_type": "code",
   "execution_count": 52,
   "metadata": {
    "collapsed": false
   },
   "outputs": [
    {
     "name": "stdout",
     "output_type": "stream",
     "text": [
      "Original inference: 2\n",
      "Original predictions: 2=0.8 5=0.2 1=0.0 3=0.0 4=0.0 6=0.0 7=0.0\n",
      "Speed: 3.1 m/s == 6.9 mi/h\n",
      "Sample has 301 readings, avg spacing 10.0ms\n",
      "Min spacing: 10.0ms\n",
      "Sample good length: has 7.0ms more than needed\n",
      "Sample has good gaps; max spacing: 11.0ms (23% of desired)\n",
      "Got features: 1.6 1.0 1.2 0.3 1.3 -2.3 236.8 166.3 123.1 0.8 1.1 1.2 1.3\n",
      "Got predictions: 2=0.7 5=0.3 3=0.0 4=0.0 6=0.0 7=0.0\n"
     ]
    }
   ],
   "source": [
    "from ipywidgets import interact\n",
    "interact(inspectEvent, index=(0, len(tsd.events)-1))"
   ]
  },
  {
   "cell_type": "code",
   "execution_count": 41,
   "metadata": {
    "collapsed": false
   },
   "outputs": [],
   "source": [
    "from model_sorter import describeModel"
   ]
  },
  {
   "cell_type": "code",
   "execution_count": 46,
   "metadata": {
    "collapsed": false
   },
   "outputs": [
    {
     "ename": "TypeError",
     "evalue": "'RandomForest' object has no attribute '__getitem__'",
     "output_type": "error",
     "traceback": [
      "\u001b[0;31m---------------------------------------------------------------------------\u001b[0m",
      "\u001b[0;31mTypeError\u001b[0m                                 Traceback (most recent call last)",
      "\u001b[0;32m<ipython-input-46-9f148c523a91>\u001b[0m in \u001b[0;36m<module>\u001b[0;34m()\u001b[0m\n\u001b[0;32m----> 1\u001b[0;31m \u001b[0mdescribeModel\u001b[0m\u001b[0;34m(\u001b[0m\u001b[0;34m'test-model'\u001b[0m\u001b[0;34m,\u001b[0m \u001b[0mforest\u001b[0m\u001b[0;34m)\u001b[0m\u001b[0;34m\u001b[0m\u001b[0m\n\u001b[0m",
      "\u001b[0;32m/Users/evan/knock/ActivityPredictionPipeline/model_sorter.pyc\u001b[0m in \u001b[0;36mdescribeModel\u001b[0;34m(description, test_results)\u001b[0m\n\u001b[1;32m     65\u001b[0m \u001b[0;34m\u001b[0m\u001b[0m\n\u001b[1;32m     66\u001b[0m \u001b[0;32mdef\u001b[0m \u001b[0mdescribeModel\u001b[0m\u001b[0;34m(\u001b[0m\u001b[0mdescription\u001b[0m\u001b[0;34m,\u001b[0m \u001b[0mtest_results\u001b[0m\u001b[0;34m)\u001b[0m\u001b[0;34m:\u001b[0m\u001b[0;34m\u001b[0m\u001b[0m\n\u001b[0;32m---> 67\u001b[0;31m     \u001b[0;32mwith\u001b[0m \u001b[0mopen\u001b[0m\u001b[0;34m(\u001b[0m\u001b[0mos\u001b[0m\u001b[0;34m.\u001b[0m\u001b[0mpath\u001b[0m\u001b[0;34m.\u001b[0m\u001b[0mjoin\u001b[0m\u001b[0;34m(\u001b[0m\u001b[0mtest_results\u001b[0m\u001b[0;34m[\u001b[0m\u001b[0;34m'dirname'\u001b[0m\u001b[0;34m]\u001b[0m\u001b[0;34m,\u001b[0m \u001b[0;34m'config.json'\u001b[0m\u001b[0;34m)\u001b[0m\u001b[0;34m)\u001b[0m \u001b[0;32mas\u001b[0m \u001b[0mf\u001b[0m\u001b[0;34m:\u001b[0m\u001b[0;34m\u001b[0m\u001b[0m\n\u001b[0m\u001b[1;32m     68\u001b[0m         \u001b[0mconfig\u001b[0m \u001b[0;34m=\u001b[0m \u001b[0mjson\u001b[0m\u001b[0;34m.\u001b[0m\u001b[0mload\u001b[0m\u001b[0;34m(\u001b[0m\u001b[0mf\u001b[0m\u001b[0;34m)\u001b[0m\u001b[0;34m\u001b[0m\u001b[0m\n\u001b[1;32m     69\u001b[0m     \u001b[0mconfig\u001b[0m\u001b[0;34m[\u001b[0m\u001b[0;34m'cv'\u001b[0m\u001b[0;34m]\u001b[0m \u001b[0;34m=\u001b[0m \u001b[0mpipeline\u001b[0m\u001b[0;34m.\u001b[0m\u001b[0mBuiltForest\u001b[0m\u001b[0;34m.\u001b[0m\u001b[0m_loadMetaFromCvFile\u001b[0m\u001b[0;34m(\u001b[0m\u001b[0mtest_results\u001b[0m\u001b[0;34m[\u001b[0m\u001b[0;34m'cv_filename'\u001b[0m\u001b[0;34m]\u001b[0m\u001b[0;34m)\u001b[0m\u001b[0;34m\u001b[0m\u001b[0m\n",
      "\u001b[0;31mTypeError\u001b[0m: 'RandomForest' object has no attribute '__getitem__'"
     ]
    }
   ],
   "source": [
    "describeModel('test-model', forest)"
   ]
  },
  {
   "cell_type": "code",
   "execution_count": null,
   "metadata": {
    "collapsed": true
   },
   "outputs": [],
   "source": []
  }
 ],
 "metadata": {
  "kernelspec": {
   "display_name": "Python 2",
   "language": "python",
   "name": "python2"
  },
  "language_info": {
   "codemirror_mode": {
    "name": "ipython",
    "version": 2
   },
   "file_extension": ".py",
   "mimetype": "text/x-python",
   "name": "python",
   "nbconvert_exporter": "python",
   "pygments_lexer": "ipython2",
   "version": "2.7.11"
  },
  "widgets": {
   "state": {
    "71f0c9e874e14fb5ac273fb63b96a12d": {
     "views": [
      {
       "cell_index": 3
      }
     ]
    }
   },
   "version": "1.2.0"
  }
 },
 "nbformat": 4,
 "nbformat_minor": 1
}
