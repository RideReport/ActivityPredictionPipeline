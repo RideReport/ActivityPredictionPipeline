{
 "cells": [
  {
   "cell_type": "code",
   "execution_count": null,
   "metadata": {
    "collapsed": false
   },
   "outputs": [],
   "source": [
    "import pipeline\n",
    "from jupyter_fetch_helper import fetchTSDInJupyter\n",
    "fetchTSDInJupyter('1585a6f1-9640-4984-bd8b-8484db36520a')\n"
   ]
  },
  {
   "cell_type": "code",
   "execution_count": null,
   "metadata": {
    "collapsed": false
   },
   "outputs": [],
   "source": [
    "\"Load pipeline module, load TSD from `tsd_dict`, and initialize appropriate forest\"\n",
    "import pipeline\n",
    "reload(pipeline)\n",
    "\n",
    "samplingRateHz = 20\n",
    "sampleCount = 64\n",
    "tsd = pipeline.PreparedTSD(tsd_dict)\n",
    "if tsd.platform == 'android':\n",
    "    from rr_mode_classification_opencv import RandomForest\n",
    "    forest = RandomForest(sampleCount, samplingRateHz, \"./model.android.cv\")\n",
    "else:\n",
    "    from rr_mode_classification_apple import RandomForest\n",
    "    forest = RandomForest(sampleCount, samplingRateHz, \"./model.ios.cv\")"
   ]
  },
  {
   "cell_type": "code",
   "execution_count": null,
   "metadata": {
    "collapsed": true
   },
   "outputs": [],
   "source": [
    "import matplotlib.pyplot as plt\n",
    "def inspectEvent(index):\n",
    "    print '\\n'.join(tsd.events[index].describe(forest))"
   ]
  },
  {
   "cell_type": "code",
   "execution_count": null,
   "metadata": {
    "collapsed": false
   },
   "outputs": [],
   "source": [
    "def f(x): return x\n",
    "from ipywidgets import interact\n",
    "interact(inspectEvent, index=(0, len(tsd.events)-1))"
   ]
  },
  {
   "cell_type": "code",
   "execution_count": null,
   "metadata": {
    "collapsed": false
   },
   "outputs": [],
   "source": [
    "tsd_dict['client']"
   ]
  },
  {
   "cell_type": "code",
   "execution_count": null,
   "metadata": {
    "collapsed": true
   },
   "outputs": [],
   "source": []
  }
 ],
 "metadata": {
  "kernelspec": {
   "display_name": "Python 2",
   "language": "python",
   "name": "python2"
  },
  "language_info": {
   "codemirror_mode": {
    "name": "ipython",
    "version": 2
   },
   "file_extension": ".py",
   "mimetype": "text/x-python",
   "name": "python",
   "nbconvert_exporter": "python",
   "pygments_lexer": "ipython2",
   "version": "2.7.11"
  },
  "widgets": {
   "state": {
    "e414567384a14393a1218f2f335618b7": {
     "views": [
      {
       "cell_index": 3
      }
     ]
    }
   },
   "version": "1.2.0"
  }
 },
 "nbformat": 4,
 "nbformat_minor": 1
}
